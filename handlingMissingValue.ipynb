{
 "cells": [
  {
   "cell_type": "markdown",
   "metadata": {},
   "source": [
    "## Handling Missing Values in Python During the Data Analysis Process\n",
    "Missing values are a common occurrence in data analysis and must be handled effectively to ensure the accuracy of insights derived from the data. This document provides a comprehensive guide to handling missing values in Python, covering various techniques and their implementations."
   ]
  },
  {
   "cell_type": "markdown",
   "metadata": {},
   "source": [
    "### 1. Understanding Missing Values\n",
    "### Causes of Missing Values:\n",
    "- Data entry errors\n",
    "- Non-responses in surveys\n",
    "- Data corruption\n",
    "- Merging datasets with unmatched keys\n",
    "\n",
    "### Types of Missing Data:\n",
    "- Missing Completely at Random (MCAR): No systematic pattern.\n",
    "- Missing at Random (MAR): Systematic relationship with other variables.\n",
    "- Missing Not at Random (MNAR): Related to the missing value itself."
   ]
  },
  {
   "cell_type": "markdown",
   "metadata": {},
   "source": [
    "#### Identifying Missing Values:\n",
    "\n",
    "Before handling missing values, identify them in the dataset."
   ]
  },
  {
   "cell_type": "code",
   "execution_count": 1,
   "metadata": {},
   "outputs": [
    {
     "name": "stdout",
     "output_type": "stream",
     "text": [
      "    Name    Age  Salary\n",
      "0  False  False   False\n",
      "1  False   True   False\n",
      "2  False  False    True\n",
      "3   True  False   False\n",
      "Name      1\n",
      "Age       1\n",
      "Salary    1\n",
      "dtype: int64\n"
     ]
    }
   ],
   "source": [
    "import pandas as pd\n",
    "\n",
    "# Example dataset\n",
    "data = {\n",
    "    'Name': ['Sajjad', 'Noor', 'Sameer', None],\n",
    "    'Age': [25, None, 30, 22],\n",
    "    'Salary': [50000, 60000, None, 45000]\n",
    "}\n",
    "df = pd.DataFrame(data)\n",
    "\n",
    "# Check for missing values\n",
    "print(df.isnull())  # Boolean mask for missing values\n",
    "print(df.isnull().sum())  # Count of missing values per column"
   ]
  },
  {
   "cell_type": "markdown",
   "metadata": {},
   "source": [
    "### 2. Techniques to Handle Missing Values\n",
    "\n",
    "#### 2.1 Dropping Missing Values\n",
    "- When to use: If missing values are sparse and not critical."
   ]
  },
  {
   "cell_type": "code",
   "execution_count": null,
   "metadata": {},
   "outputs": [],
   "source": []
  }
 ],
 "metadata": {
  "kernelspec": {
   "display_name": "Python 3",
   "language": "python",
   "name": "python3"
  },
  "language_info": {
   "codemirror_mode": {
    "name": "ipython",
    "version": 3
   },
   "file_extension": ".py",
   "mimetype": "text/x-python",
   "name": "python",
   "nbconvert_exporter": "python",
   "pygments_lexer": "ipython3",
   "version": "3.12.5"
  }
 },
 "nbformat": 4,
 "nbformat_minor": 2
}
