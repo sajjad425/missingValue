{
 "cells": [
  {
   "cell_type": "markdown",
   "metadata": {},
   "source": [
    "## Handling Missing Values in Python During the Data Analysis Process\n",
    "Missing values are a common occurrence in data analysis and must be handled effectively to ensure the accuracy of insights derived from the data. This document provides a comprehensive guide to handling missing values in Python, covering various techniques and their implementations."
   ]
  },
  {
   "cell_type": "markdown",
   "metadata": {},
   "source": [
    "### 1. Understanding Missing Values\n",
    "### Causes of Missing Values:\n",
    "- Data entry errors\n",
    "- Non-responses in surveys\n",
    "- Data corruption\n",
    "- Merging datasets with unmatched keys\n",
    "\n",
    "### Types of Missing Data:\n",
    "- Missing Completely at Random (MCAR): No systematic pattern.\n",
    "- Missing at Random (MAR): Systematic relationship with other variables.\n",
    "- Missing Not at Random (MNAR): Related to the missing value itself."
   ]
  },
  {
   "cell_type": "markdown",
   "metadata": {},
   "source": [
    "#### Identifying Missing Values:\n",
    "\n",
    "Before handling missing values, identify them in the dataset."
   ]
  },
  {
   "cell_type": "code",
   "execution_count": 1,
   "metadata": {},
   "outputs": [
    {
     "name": "stdout",
     "output_type": "stream",
     "text": [
      "    Name    Age  Salary\n",
      "0  False  False   False\n",
      "1  False   True   False\n",
      "2  False  False    True\n",
      "3   True  False   False\n",
      "Name      1\n",
      "Age       1\n",
      "Salary    1\n",
      "dtype: int64\n"
     ]
    }
   ],
   "source": [
    "import pandas as pd\n",
    "\n",
    "# Example dataset\n",
    "data = {\n",
    "    'Name': ['Sajjad', 'Noor', 'Sameer', None],\n",
    "    'Age': [25, None, 30, 22],\n",
    "    'Salary': [50000, 60000, None, 45000]\n",
    "}\n",
    "df = pd.DataFrame(data)\n",
    "\n",
    "# Check for missing values\n",
    "print(df.isnull())  # Boolean mask for missing values\n",
    "print(df.isnull().sum())  # Count of missing values per column"
   ]
  },
  {
   "cell_type": "markdown",
   "metadata": {},
   "source": [
    "### 2. Techniques to Handle Missing Values\n",
    "\n",
    "#### 2.1 Dropping Missing Values\n",
    "- When to use: If missing values are sparse and not critical."
   ]
  },
  {
   "cell_type": "code",
   "execution_count": 2,
   "metadata": {},
   "outputs": [],
   "source": [
    "# Drop rows with any missing values\n",
    "df_dropped_rows = df.dropna()\n",
    "\n",
    "# Drop columns with any missing values\n",
    "df_dropped_columns = df.dropna(axis=1)\n",
    "\n",
    "# Drop rows where specific columns have missing values\n",
    "df_dropped_specific = df.dropna(subset=['Age', 'Salary'])"
   ]
  },
  {
   "cell_type": "markdown",
   "metadata": {},
   "source": [
    "### 2.2 Imputation (Filling Missing Values)\n",
    "- When to use: If missing values need to be estimated.\n",
    "\n",
    "2.2.1 Fill with a Constant Value"
   ]
  },
  {
   "cell_type": "code",
   "execution_count": 3,
   "metadata": {},
   "outputs": [],
   "source": [
    "# Fill with a specific value\n",
    "df_filled_constant = df.fillna(0)"
   ]
  },
  {
   "cell_type": "markdown",
   "metadata": {},
   "source": [
    "2.2.2 Fill with Statistical Measures\n",
    "- Mean, Median, or Mode: Suitable for numerical and categorical data."
   ]
  },
  {
   "cell_type": "code",
   "execution_count": 5,
   "metadata": {},
   "outputs": [],
   "source": [
    "# Fill with mean\n",
    "df['Age'] = df['Age'].fillna(df['Age'].mean())\n",
    "\n",
    "# Fill with median\n",
    "df['Age'] = df['Age'].fillna(df['Age'].median())\n",
    "\n",
    "# Fill with mode\n",
    "df['Name'] = df['Name'].fillna(df['Name'].mode()[0])"
   ]
  },
  {
   "cell_type": "markdown",
   "metadata": {},
   "source": [
    "2.2.3 Forward Fill or Backward Fill\n",
    "- When to use: For time-series or sequential data."
   ]
  },
  {
   "cell_type": "code",
   "execution_count": 7,
   "metadata": {},
   "outputs": [
    {
     "name": "stdout",
     "output_type": "stream",
     "text": [
      "Missing values after forward fill:\n",
      "Name      0\n",
      "Age       0\n",
      "Salary    0\n",
      "dtype: int64\n",
      "\n",
      "Missing values after backward fill:\n",
      "Name      0\n",
      "Age       0\n",
      "Salary    0\n",
      "dtype: int64\n"
     ]
    }
   ],
   "source": [
    "# Forward fill\n",
    "df_filled_ffill = df.ffill()\n",
    "\n",
    "# Backward fill\n",
    "df_filled_bfill = df.bfill()\n",
    "\n",
    "# Check for missing values after fill\n",
    "print(\"Missing values after forward fill:\")\n",
    "print(df_filled_ffill.isna().sum())\n",
    "\n",
    "print(\"\\nMissing values after backward fill:\")\n",
    "print(df_filled_bfill.isna().sum())\n"
   ]
  },
  {
   "cell_type": "markdown",
   "metadata": {},
   "source": [
    "2.2.4 Interpolation\n",
    "- When to use: For numerical data with patterns."
   ]
  },
  {
   "cell_type": "code",
   "execution_count": 9,
   "metadata": {},
   "outputs": [
    {
     "name": "stdout",
     "output_type": "stream",
     "text": [
      "     Name        Age   Salary\n",
      "0  Sajjad  25.000000  50000.0\n",
      "1    Noor  25.666667  60000.0\n",
      "2  Sameer  30.000000  52500.0\n",
      "3    Noor  22.000000  45000.0\n"
     ]
    }
   ],
   "source": [
    "# Convert 'Age' and 'Salary' columns to numeric, forcing errors to NaN\n",
    "df['Age'] = pd.to_numeric(df['Age'], errors='coerce')\n",
    "df['Salary'] = pd.to_numeric(df['Salary'], errors='coerce')\n",
    "\n",
    "# Interpolate only numeric columns ('Age' and 'Salary') using linear interpolation\n",
    "df_interpolated = df.copy()\n",
    "df_interpolated[['Age', 'Salary']] = df[['Age', 'Salary']].interpolate(method='linear')\n",
    "\n",
    "# Display the interpolated DataFrame\n",
    "print(df_interpolated)"
   ]
  },
  {
   "cell_type": "markdown",
   "metadata": {},
   "source": [
    "### 2.3 Using Predictive Models\n",
    "- When to use: For complex datasets where patterns exist."
   ]
  },
  {
   "cell_type": "code",
   "execution_count": 10,
   "metadata": {},
   "outputs": [],
   "source": [
    "from sklearn.impute import SimpleImputer\n",
    "from sklearn.linear_model import LinearRegression\n",
    "\n",
    "# Example using SimpleImputer\n",
    "imputer = SimpleImputer(strategy='mean')\n",
    "df['Age'] = imputer.fit_transform(df[['Age']])\n",
    "\n",
    "# Using regression for imputation\n",
    "X = df.dropna(subset=['Salary'])[['Age']]  # Features for prediction\n",
    "y = df.dropna(subset=['Salary'])['Salary']  # Target\n",
    "model = LinearRegression().fit(X, y)\n",
    "missing_indices = df['Salary'].isnull()\n",
    "df.loc[missing_indices, 'Salary'] = model.predict(df[missing_indices][['Age']])"
   ]
  },
  {
   "cell_type": "markdown",
   "metadata": {},
   "source": [
    "### 3. Advanced Techniques\n",
    "\n",
    "### 3.1 K-Nearest Neighbors (KNN) Imputation\n",
    "- When to use: For small to medium datasets with significant relationships."
   ]
  },
  {
   "cell_type": "code",
   "execution_count": 12,
   "metadata": {},
   "outputs": [
    {
     "name": "stdout",
     "output_type": "stream",
     "text": [
      "     Name        Age        Salary\n",
      "0  Sajjad  25.000000  50000.000000\n",
      "1    Noor  25.666667  60000.000000\n",
      "2  Sameer  30.000000  71019.417476\n",
      "3    Noor  22.000000  45000.000000\n"
     ]
    }
   ],
   "source": [
    "from sklearn.impute import KNNImputer\n",
    "\n",
    "# 1. Select only numeric columns (Age and Salary)\n",
    "df_numeric = df[['Age', 'Salary']]\n",
    "\n",
    "# 2. Initialize KNNImputer and apply it on numeric columns\n",
    "imputer = KNNImputer(n_neighbors=5)\n",
    "df_imputed_numeric = pd.DataFrame(imputer.fit_transform(df_numeric), columns=df_numeric.columns)\n",
    "\n",
    "# 3. Reattach the non-numeric columns (e.g., 'Name')\n",
    "df_imputed = df.copy()\n",
    "df_imputed[['Age', 'Salary']] = df_imputed_numeric[['Age', 'Salary']]\n",
    "\n",
    "# Display the imputed DataFrame\n",
    "print(df_imputed)"
   ]
  },
  {
   "cell_type": "markdown",
   "metadata": {},
   "source": [
    "### 3.2 Multiple Imputation\n",
    "- When to use: For datasets requiring robust statistical treatment."
   ]
  },
  {
   "cell_type": "code",
   "execution_count": 16,
   "metadata": {},
   "outputs": [
    {
     "name": "stdout",
     "output_type": "stream",
     "text": [
      "     Name        Age        Salary\n",
      "0  Sajjad  25.000000  50000.000000\n",
      "1    Noor  25.666667  60000.000000\n",
      "2  Sameer  30.000000  71019.417476\n",
      "3    Noor  22.000000  45000.000000\n"
     ]
    }
   ],
   "source": [
    "from sklearn.experimental import enable_iterative_imputer  # noqa\n",
    "from sklearn.impute import IterativeImputer\n",
    "\n",
    "# 1. Select only numeric columns (Age and Salary)\n",
    "df_numeric = df[['Age', 'Salary']]\n",
    "\n",
    "# 2. Initialize IterativeImputer and apply it on numeric columns\n",
    "imputer = IterativeImputer()\n",
    "df_imputed_numeric = pd.DataFrame(imputer.fit_transform(df_numeric), columns=df_numeric.columns)\n",
    "\n",
    "# 3. Reattach the non-numeric columns (e.g., 'Name')\n",
    "df_imputed = df.copy()\n",
    "df_imputed[['Age', 'Salary']] = df_imputed_numeric[['Age', 'Salary']]\n",
    "\n",
    "# Display the imputed DataFrame\n",
    "print(df_imputed)"
   ]
  },
  {
   "cell_type": "markdown",
   "metadata": {},
   "source": [
    "### 4. Handling Categorical Missing Values\n",
    "- Replace with the mode.\n",
    "- Replace with a placeholder (e.g., \"Unknown\").\n",
    "- Use one-hot encoding with an extra category."
   ]
  },
  {
   "cell_type": "code",
   "execution_count": 18,
   "metadata": {},
   "outputs": [],
   "source": [
    "# Replace NaN values with 'Unknown'\n",
    "df['Name'] = df['Name'].fillna('Unknown')\n",
    "\n",
    "# One-hot encoding\n",
    "encoded_df = pd.get_dummies(df, columns=['Name'], dummy_na=True)"
   ]
  },
  {
   "cell_type": "markdown",
   "metadata": {},
   "source": [
    "### 5. Best Practices\n",
    "- Always analyze the extent and pattern of missing data.\n",
    "- Avoid arbitrary imputation without understanding data context.\n",
    "- Test models before and after handling missing data.\n",
    "- Document all transformations for reproducibility."
   ]
  }
 ],
 "metadata": {
  "kernelspec": {
   "display_name": "Python 3",
   "language": "python",
   "name": "python3"
  },
  "language_info": {
   "codemirror_mode": {
    "name": "ipython",
    "version": 3
   },
   "file_extension": ".py",
   "mimetype": "text/x-python",
   "name": "python",
   "nbconvert_exporter": "python",
   "pygments_lexer": "ipython3",
   "version": "3.12.5"
  }
 },
 "nbformat": 4,
 "nbformat_minor": 2
}
